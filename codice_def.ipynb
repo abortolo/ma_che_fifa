{
  "nbformat": 4,
  "nbformat_minor": 0,
  "metadata": {
    "colab": {
      "name": "codice.ipynb",
      "provenance": [],
      "authorship_tag": "ABX9TyMO/yEW/0H45JsPQjsemwXI",
      "include_colab_link": true
    },
    "kernelspec": {
      "name": "python3",
      "display_name": "Python 3"
    },
    "language_info": {
      "name": "python"
    }
  },
  "cells": [
    {
      "cell_type": "markdown",
      "metadata": {
        "id": "view-in-github",
        "colab_type": "text"
      },
      "source": [
        "<a href=\"https://colab.research.google.com/github/abortolo/ma_che_fifa/blob/main/codice_def.ipynb\" target=\"_parent\"><img src=\"https://colab.research.google.com/assets/colab-badge.svg\" alt=\"Open In Colab\"/></a>"
      ]
    },
    {
      "cell_type": "markdown",
      "metadata": {
        "id": "i8TD6quBS4In"
      },
      "source": [
        "### PROJECT FIFA 2021\n",
        "\n",
        "Football is the most popular sport in the world. It has millions of passionate fans, thousands of clubs and big stadiums in almost every city. It is also a huge economic business. Movements of billions of euros linked to the impressive number of fans attending the stadium and the billionaire rights of pay TV. The question of how much football players earns is immediate, but at the same time is known that they earn a lot of money. A more interesting question is how much these players cost to their clubs, and an even more interesting question is: the price their clubs pay, the market value of the players is correct? \n",
        "Here it is not so important how much a player is paid, but how much it is worth to the club.\n",
        "\n",
        "Launch \"codice\" and discover what is the actual value of your asset!\n",
        "\n",
        "https://projectfifa2021.wixsite.com/ourproduct"
      ]
    },
    {
      "cell_type": "code",
      "metadata": {
        "id": "ONgb7rQdN9p2"
      },
      "source": [
        "from datetime import datetime\n",
        "import time\n",
        "import pandas as pd\n",
        "import numpy as np\n",
        "from sklearn.model_selection import train_test_split\n",
        "import tensorflow as tf\n",
        "from tensorflow import keras\n",
        "from tensorflow.keras import layers\n",
        "from tensorflow.python.keras.layers import Dropout\n",
        "\n",
        "!git clone https://github.com/abortolo/ma_che_fifa.git\n",
        "path = '/content/'\n",
        "\n",
        "# load dataset; \"ISO-8859-1\" is for recognizing special characters\n",
        "#dataset = pd.read_csv(\"new_test.csv\", sep=\";\", encoding=\"ISO-8859-1\")\n",
        "dataset = {'sofifa_id':['test'],'short_name':['player1'],'age':[25],'height_cm':[180],'weight_kg':[75],'overall':[65],'potential':[70],'value_eur':[5000],'wage_eur':[500],'player_positions':['RW'],'attaccante':[1],'mediano':[0],'difensore':[0],'preferred_foot':['Right'],'weak_foot':[3],'work_rate':['Medium/Low'],'pace':[67.0],'shooting':[50],'passing':[50],'dribbling':[66],'defending':[65],'physic':[45],'attacking_crossing':[53],'attacking_finishing':[60],'attacking_heading_accuracy':[65],'attacking_short_passing':[50],'attacking_volleys':[54],'skill_dribbling':[46],'skill_curve':[46],'skill_fk_accuracy':[67],'skill_long_passing':[54],'skill_ball_control':[53],'movement_acceleration':[50],'movement_sprint_speed':[67],'movement_agility':[46],'movement_reactions':[49],'movement_balance':[53],'power_shot_power':[63],'power_jumping':[57],'power_stamina':[60],'power_strength':[59],'power_long_shots':[57],'mentality_aggression':[82],'mentality_interceptions':[78],'mentality_positioning':[65],'mentality_vision':[76],'mentality_penalties':[81],'mentality_composure':[67],'defending_standing_tackle':[45],'defending_sliding_tackle':[63],'goalkeeping_diving':[50],'goalkeeping_handling':[11],'goalkeeping_kicking':[15],'goalkeeping_positioning':[14],'goalkeeping_reflexes':[8]\n",
        "}\n",
        "dataset = pd.DataFrame(dataset)\n",
        "# replace all commas with dots (for floating numbers)\n",
        "dataset = dataset.replace({',': '.'}, regex=True)\n",
        "\n",
        "print (\"**************************************************\")\n",
        "print (\"*                                                *\")\n",
        "print (\"*      PROJECT - DATASCIENCE WITH FIFA (2021)    *\")\n",
        "print (\"*       by Federica  , Reetta  , Kristjan        *\")\n",
        "print (\"*         Bortolussi   Himanka   Kallikivi       *\")\n",
        "print (\"*                                                *\")\n",
        "print (\"**************************************************\")\n",
        "print (\"\\nChoose the class to modify\\n\")\n",
        "i= 0\n",
        "for column in dataset.columns:\n",
        "    print(i,\" - \", column, \"\\t(default: \", dataset[dataset.columns[i]][0], \")\")\n",
        "    i = i + 1\n",
        "time.sleep(2)\n",
        "for choice in range(55):\n",
        "    choice = int(input(\"\\ninsert number value to change ('0' for Esc):\"))\n",
        "    if choice <= 0:\n",
        "        print(\"please wait...\")\n",
        "        break\n",
        "    if choice < 55:\n",
        "        value = input(dataset.columns[choice])\n",
        "    else: \n",
        "        print(\"please wait...\")\n",
        "        break\n",
        "    dataset[dataset.columns[choice]][0] = value\n",
        "\n",
        "# change strings to float numbers\n",
        "dataset[\"age\"] = dataset[\"age\"].astype(float)\n",
        "dataset[\"height_cm\"] = dataset[\"height_cm\"].astype(float)\n",
        "dataset[\"weight_kg\"] = dataset[\"weight_kg\"].astype(float)\n",
        "dataset[\"overall\"] = dataset[\"overall\"].astype(float)\n",
        "dataset[\"potential\"] = dataset[\"potential\"].astype(float)\n",
        "dataset[\"value_eur\"] = dataset[\"value_eur\"].astype(float)\n",
        "dataset[\"wage_eur\"] = dataset[\"wage_eur\"].astype(float)\n",
        "\n",
        "# normalizing the data\n",
        "dataset[\"age\"] = dataset[\"age\"] / 100\n",
        "\n",
        "# normalizing with the formula: res = (x - mean) / std\n",
        "dataset[\"height_cm\"] = (dataset[\"height_cm\"] - 180) / 6.5\n",
        "dataset[\"weight_kg\"] = (dataset[\"weight_kg\"] - 74) / 6.5\n",
        "dataset[\"overall\"] = (dataset[\"overall\"] - 75) / 6.5\n",
        "dataset[\"potential\"] = (dataset[\"potential\"] - 71) / 6.5\n",
        "\n",
        "# normalizing the label\n",
        "#dataset[\"value_eur\"] = dataset[\"value_eur\"] / 100000\n",
        "\n",
        "# coding preferred foot as either 0 or 1\n",
        "dataset.loc[dataset[\"preferred_foot\"].str.contains(\"Left\"), \"preferred_foot\"] = \"0\"\n",
        "dataset.loc[dataset[\"preferred_foot\"].str.contains(\"Right\"), \"preferred_foot\"] = \"1\"\n",
        "\n",
        "# changing preferred foot strings to floats\n",
        "dataset[\"preferred_foot\"] = dataset[\"preferred_foot\"].astype(float)\n",
        "\n",
        "# selecting all columns from pace until the end and replacing the values with the percent number (x/100)\n",
        "dataset.loc[:, \"pace\":] = dataset.loc[:, \"pace\":].astype(float)/100\n",
        "\n",
        "# copied the dataset to further modify it\n",
        "smaller_dataset = dataset.copy(deep=True)\n",
        "\n",
        "# dropped the columns that are not going to be used by the neural network\n",
        "smaller_dataset = smaller_dataset.drop([\"sofifa_id\", \"short_name\", \"player_positions\", \"work_rate\", \"wage_eur\"], axis=1)\n",
        "\n",
        "# selecting the labels from the dataset\n",
        "#labels = smaller_dataset[\"value_eur\"]\n",
        "\n",
        "# dropping the labels from the dataset\n",
        "smaller_dataset = smaller_dataset.drop([\"value_eur\"], axis=1).astype(float)\n",
        "\n",
        "\n",
        "model_Player=keras.models.load_model('/content/ma_che_fifa/model_Player')\n",
        "predictions2 = model_Player.predict(smaller_dataset)\n",
        "print (\"***********************************************************\")\n",
        "print(\"Result:\\nthe player has this monetary value for the club:\")\n",
        "value_in_eur = int((predictions2[0][0])*100000)\n",
        "print(value_in_eur, \" euro\")\n",
        "print (\"************************************************************\")\n"
      ],
      "execution_count": null,
      "outputs": []
    }
  ]
}