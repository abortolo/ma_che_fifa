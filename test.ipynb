{
  "nbformat": 4,
  "nbformat_minor": 0,
  "metadata": {
    "colab": {
      "name": "test.ipynb",
      "provenance": [],
      "authorship_tag": "ABX9TyMaTpLR7N3XDt4GTXOEsDr9",
      "include_colab_link": true
    },
    "kernelspec": {
      "name": "python3",
      "display_name": "Python 3"
    },
    "language_info": {
      "name": "python"
    }
  },
  "cells": [
    {
      "cell_type": "markdown",
      "metadata": {
        "id": "view-in-github",
        "colab_type": "text"
      },
      "source": [
        "<a href=\"https://colab.research.google.com/github/abortolo/ma_che_fifa/blob/main/test.ipynb\" target=\"_parent\"><img src=\"https://colab.research.google.com/assets/colab-badge.svg\" alt=\"Open In Colab\"/></a>"
      ]
    },
    {
      "cell_type": "code",
      "metadata": {
        "id": "7fIapmpQIETt"
      },
      "source": [
        "#!/usr/bin/env python\n",
        "# coding: utf-8\n",
        "\n",
        "# code to pepare data for MLP\n",
        "\n",
        "# In[ ]:\n",
        "\n",
        "\n",
        "import pandas as pd\n",
        "\n",
        "dataset_file = 'players_21.csv'\n",
        "p21=pd.read_csv(dataset_file, sep = ',')\n",
        "\n",
        "\n",
        "# In[ ]:\n",
        "\n",
        "\n",
        "from pandasql import sqldf\n",
        "\n",
        "\n",
        "# #Data preparation. \n",
        "\n",
        "# In[ ]:\n",
        "\n",
        "\n",
        "p21res=p21.drop(columns=['club_name','league_name','league_rank','nationality','skill_moves','body_type','release_clause_eur','player_tags','team_position','nation_position','international_reputation','real_face','team_jersey_number','joined','contract_valid_until','nation_jersey_number','player_url','long_name','dob','loaned_from','gk_diving','gk_handling','gk_kicking','gk_reflexes','gk_speed','gk_positioning','player_traits','defending_marking','ls','st','rs','lw','lf','cf','rf','rw','lam','cam','ram','lm','lcm','cm','rcm','rm','lwb','ldm','cdm','rdm','rwb','lb','lcb','cb','rcb','rb'])\n",
        "\n",
        "\n",
        "# In[ ]:\n",
        "\n",
        "\n",
        "pysqldf = lambda q: sqldf(q, globals())\n",
        "\n",
        "# all the players except GoalKeepers \n",
        "query = \"\"\"\n",
        "SELECT \n",
        "    *\n",
        "FROM p21res \n",
        "WHERE player_positions NOT LIKE '%GK%';\n",
        "\"\"\"\n",
        "df_newData = pysqldf(query)\n",
        "df_newData2 = df_newData.copy()\n",
        "\n",
        "\n",
        "# In[ ]:\n",
        "\n",
        "\n",
        "df_newData2.insert(10, 'difensore', 0, allow_duplicates=False)\n",
        "df_newData2.insert(10, 'mediano', 0, allow_duplicates=False)\n",
        "df_newData2.insert(10, 'attaccante', 0, allow_duplicates=False)\n",
        "\n",
        "\n",
        "# In[ ]:\n",
        "\n",
        "\n",
        "import numpy as np\n",
        "role_attack = np.array(['LS', 'ST', 'RS', 'LW', 'LF', 'CF', 'RF', 'RW'])\n",
        "# LS ST RS LW LF CF RF RW\n",
        "for x in role_attack:\n",
        "    df_filtered=df_newData2[df_newData2['player_positions'].str.contains(x)]\n",
        "    for index in df_filtered.index:\n",
        "        df_newData2['attaccante'][index] = 1\n",
        "role_mid_field = np.array(['LAM', 'CAM', 'RAM', 'LM', 'LCM', 'CM', 'RCM', 'RM'])\n",
        "#LAM CAM RAM LM LCM CM RCM RM\n",
        "for x in role_mid_field:\n",
        "    df_filtered=df_newData2[df_newData2['player_positions'].str.contains(x)]\n",
        "    for index in df_filtered.index:\n",
        "        df_newData2['mediano'][index] = 1\n",
        "role_defend = np.array(['LWB', 'LDM', 'CDM', 'RDM', 'RWB', 'LB', 'LCB', 'CB', 'RCB', 'RB'])\n",
        "#LWB LDM CDM RDM RWB LB LCB CB RCB RB\n",
        "for x in role_defend:\n",
        "    df_filtered=df_newData2[df_newData2['player_positions'].str.contains(x)]\n",
        "    for index in df_filtered.index:\n",
        "        df_newData2['difensore'][index] = 1\n"
      ],
      "execution_count": null,
      "outputs": []
    }
  ]
}